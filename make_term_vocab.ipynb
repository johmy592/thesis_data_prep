{
 "cells": [
  {
   "cell_type": "code",
   "execution_count": 1,
   "metadata": {},
   "outputs": [],
   "source": [
    "from openpyxl import load_workbook\n",
    "import random"
   ]
  },
  {
   "cell_type": "code",
   "execution_count": 2,
   "metadata": {},
   "outputs": [],
   "source": [
    "terms_path = \"/home/johannes/hypernym_discovery_data/fodina/files_for_exjobb_2019-02-04/trucks_aggregated_2019-02-04_141737_999contexts.xlsx\"\n",
    "vocab_path = \"/home/johannes/hypernym_discovery_data/SemEval2018-Task9/vocabulary/1A.english.vocabulary.txt\""
   ]
  },
  {
   "cell_type": "code",
   "execution_count": 3,
   "metadata": {},
   "outputs": [],
   "source": [
    "wb = load_workbook(terms_path)"
   ]
  },
  {
   "cell_type": "code",
   "execution_count": 4,
   "metadata": {},
   "outputs": [],
   "source": [
    "sheet = wb[wb.sheetnames[0]]"
   ]
  },
  {
   "cell_type": "code",
   "execution_count": 5,
   "metadata": {},
   "outputs": [],
   "source": [
    "startrow, startcol = sheet[\"A2\"].row, sheet[\"A2\"].column"
   ]
  },
  {
   "cell_type": "code",
   "execution_count": 6,
   "metadata": {},
   "outputs": [],
   "source": [
    "term_list = [sheet.cell(row=i, column=startcol).value for i in range(startrow,sheet.max_row)]"
   ]
  },
  {
   "cell_type": "code",
   "execution_count": 7,
   "metadata": {},
   "outputs": [
    {
     "name": "stdout",
     "output_type": "stream",
     "text": [
      "78224\n"
     ]
    }
   ],
   "source": [
    "print(len(term_list))"
   ]
  },
  {
   "cell_type": "code",
   "execution_count": 8,
   "metadata": {},
   "outputs": [
    {
     "name": "stdout",
     "output_type": "stream",
     "text": [
      "218753\n"
     ]
    }
   ],
   "source": [
    "v_file = open(vocab_path,'r')\n",
    "vocab_list = [line.strip('\\n') for line in v_file]\n",
    "v_file.close()\n",
    "print(len(vocab_list))"
   ]
  },
  {
   "cell_type": "code",
   "execution_count": 9,
   "metadata": {},
   "outputs": [],
   "source": [
    "intersec = set(vocab_list).intersection(term_list)"
   ]
  },
  {
   "cell_type": "code",
   "execution_count": 10,
   "metadata": {},
   "outputs": [
    {
     "data": {
      "text/plain": [
       "6041"
      ]
     },
     "execution_count": 10,
     "metadata": {},
     "output_type": "execute_result"
    }
   ],
   "source": [
    "len(intersec)"
   ]
  },
  {
   "cell_type": "code",
   "execution_count": 11,
   "metadata": {},
   "outputs": [],
   "source": [
    "term_vocab_file = 'term_vocab.txt'\n",
    "tv_file = open(term_vocab_file,'w+')\n",
    "\n",
    "for term in intersec:\n",
    "    tv_file.write(term+'\\n')\n",
    "tv_file.close()"
   ]
  },
  {
   "cell_type": "code",
   "execution_count": 12,
   "metadata": {},
   "outputs": [],
   "source": [
    "r_samples = random.sample(intersec,100)\n",
    "query_sample_file = 'queries.txt'\n",
    "qs_file = open(query_sample_file,'w+')\n",
    "\n",
    "for q in r_samples:\n",
    "    qs_file.write(q+'\\tConcept\\n')\n",
    "\n",
    "qs_file.close()"
   ]
  },
  {
   "cell_type": "code",
   "execution_count": null,
   "metadata": {},
   "outputs": [],
   "source": []
  }
 ],
 "metadata": {
  "kernelspec": {
   "display_name": "Python 3",
   "language": "python",
   "name": "python3"
  },
  "language_info": {
   "codemirror_mode": {
    "name": "ipython",
    "version": 3
   },
   "file_extension": ".py",
   "mimetype": "text/x-python",
   "name": "python",
   "nbconvert_exporter": "python",
   "pygments_lexer": "ipython3",
   "version": "3.5.2"
  }
 },
 "nbformat": 4,
 "nbformat_minor": 2
}
