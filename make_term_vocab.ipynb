{
 "cells": [
  {
   "cell_type": "code",
   "execution_count": 4,
   "metadata": {},
   "outputs": [],
   "source": [
    "from openpyxl import load_workbook\n",
    "import random"
   ]
  },
  {
   "cell_type": "code",
   "execution_count": 5,
   "metadata": {},
   "outputs": [],
   "source": [
    "# TODO: Add the term as explicitly written in the text to vocab, have another file that maps to the extracted term.\n",
    "\n",
    "# Trucks wiki\n",
    "#terms_path = \"/home/johannes/hypernym_discovery_data/fodina/files_for_exjobb_2019-02-04/trucks_aggregated_2019-02-04_141737_999contexts.xlsx\"\n",
    "#vocab_path = \"/home/johannes/hypernym_discovery_data/SemEval2018-Task9/vocabulary/1A.english.vocabulary.txt\"\n",
    "\n",
    "# Volvo manual\n",
    "terms_path = \"/home/johannes/hypernym_discovery_data/fodina/Volvo_FH_till_Johannes_2019-03-07/en-volvo-FH_Johannes_aggregated_2019-03-07_104647_999contexts.xlsx\"\n",
    "vocab_path = \"/home/johannes/hypernym_discovery_data/data_for_volvo_run/SemEval-copy/vocabulary/1A.english.vocabulary.txt\""
   ]
  },
  {
   "cell_type": "code",
   "execution_count": 3,
   "metadata": {},
   "outputs": [],
   "source": [
    "wb = load_workbook(terms_path)"
   ]
  },
  {
   "cell_type": "code",
   "execution_count": 4,
   "metadata": {},
   "outputs": [],
   "source": [
    "sheet = wb[wb.sheetnames[0]]"
   ]
  },
  {
   "cell_type": "code",
   "execution_count": 10,
   "metadata": {},
   "outputs": [],
   "source": [
    "startrow, startcol = sheet[\"A2\"].row, sheet[\"A2\"].column"
   ]
  },
  {
   "cell_type": "code",
   "execution_count": 11,
   "metadata": {},
   "outputs": [],
   "source": [
    "term_list = [sheet.cell(row=i, column=startcol).value for i in range(startrow,sheet.max_row)]"
   ]
  },
  {
   "cell_type": "code",
   "execution_count": 12,
   "metadata": {},
   "outputs": [
    {
     "name": "stdout",
     "output_type": "stream",
     "text": [
      "6185\n"
     ]
    }
   ],
   "source": [
    "print(len(term_list))"
   ]
  },
  {
   "cell_type": "code",
   "execution_count": 8,
   "metadata": {},
   "outputs": [
    {
     "name": "stdout",
     "output_type": "stream",
     "text": [
      "223407\n"
     ]
    }
   ],
   "source": [
    "v_file = open(vocab_path,'r')\n",
    "vocab_list = [line.strip('\\n') for line in v_file]\n",
    "v_file.close()\n",
    "print(len(vocab_list))"
   ]
  },
  {
   "cell_type": "code",
   "execution_count": 9,
   "metadata": {},
   "outputs": [],
   "source": [
    "intersec = set(vocab_list).intersection(term_list)"
   ]
  },
  {
   "cell_type": "code",
   "execution_count": 10,
   "metadata": {},
   "outputs": [
    {
     "data": {
      "text/plain": [
       "3359"
      ]
     },
     "execution_count": 10,
     "metadata": {},
     "output_type": "execute_result"
    }
   ],
   "source": [
    "len(intersec)"
   ]
  },
  {
   "cell_type": "code",
   "execution_count": 11,
   "metadata": {},
   "outputs": [],
   "source": [
    "term_vocab_file = 'term_vocab.txt'\n",
    "tv_file = open(term_vocab_file,'w+')\n",
    "\n",
    "for term in intersec:\n",
    "    tv_file.write(term+'\\n')\n",
    "tv_file.close()"
   ]
  },
  {
   "cell_type": "code",
   "execution_count": 13,
   "metadata": {},
   "outputs": [],
   "source": [
    "path_queries = \"/home/johannes/thesis_code/data_experimentation/queries/volvo_queries/queries.txt\""
   ]
  },
  {
   "cell_type": "code",
   "execution_count": 15,
   "metadata": {},
   "outputs": [],
   "source": [
    "r_samples = random.sample(intersec,100)\n",
    "query_sample_file = path_queries\n",
    "qs_file = open(query_sample_file,'w+')\n",
    "\n",
    "for q in r_samples:\n",
    "    qs_file.write(q+'\\tConcept\\n')\n",
    "\n",
    "qs_file.close()"
   ]
  },
  {
   "cell_type": "code",
   "execution_count": 1,
   "metadata": {},
   "outputs": [],
   "source": [
    "# Testing new stuff\n",
    "import spacy"
   ]
  },
  {
   "cell_type": "code",
   "execution_count": 2,
   "metadata": {},
   "outputs": [],
   "source": [
    "nlp = spacy.load('en')"
   ]
  },
  {
   "cell_type": "code",
   "execution_count": 6,
   "metadata": {},
   "outputs": [],
   "source": [
    "wb = load_workbook(terms_path)"
   ]
  },
  {
   "cell_type": "code",
   "execution_count": 7,
   "metadata": {},
   "outputs": [],
   "source": [
    "sheet = wb[wb.sheetnames[0]]"
   ]
  },
  {
   "cell_type": "code",
   "execution_count": 8,
   "metadata": {},
   "outputs": [],
   "source": [
    "startrow_c, startcol_c = sheet[\"C2\"].row, sheet[\"C2\"].column"
   ]
  },
  {
   "cell_type": "code",
   "execution_count": 9,
   "metadata": {},
   "outputs": [],
   "source": [
    "contexts_list = [sheet.cell(row=i, column=startcol_c).value for i in range(startrow_c,sheet.max_row)]"
   ]
  },
  {
   "cell_type": "code",
   "execution_count": 13,
   "metadata": {},
   "outputs": [
    {
     "name": "stdout",
     "output_type": "stream",
     "text": [
      "STARTING AND DRIVING\n",
      "10 STARTING AND DRIVING\n",
      "\n",
      "DRIVING\n"
     ]
    }
   ],
   "source": [
    "print(contexts_list[20])\n",
    "print(term_list[20])"
   ]
  },
  {
   "cell_type": "code",
   "execution_count": 14,
   "metadata": {},
   "outputs": [],
   "source": [
    "import re"
   ]
  },
  {
   "cell_type": "code",
   "execution_count": 18,
   "metadata": {},
   "outputs": [
    {
     "name": "stdout",
     "output_type": "stream",
     "text": [
      "TERM:  Variant symbol\n",
      "Variant symbol\n",
      "TERM:  SubChapter\n",
      "SubChapter\n",
      "TERM:  Sub-Section\n",
      "Sub-Section\n",
      "TERM:  Assembly date filter\n",
      "Assembly date filter\n",
      "TERM:  Project filter\n",
      "Project filter\n",
      "TERM:  AT2412F OR AT2612F OR ATO2612F OR ATO3112F OR ATO3512F OR AT2812F\n",
      "AT2412F OR AT2612F OR ATO2612F OR ATO3112F OR ATO3512F OR AT2812F\n",
      "TERM:  RAPDD-GR\n",
      "RAPDD-GR\n",
      "TERM:  RADDT-G2\n",
      "RADDT-G2\n",
      "TERM:  RAPD-G4\n",
      "RAPD-G4\n",
      "TERM:  RAPD-GR\n",
      "RAPD-GR\n",
      "TERM:  RADDT-GR\n",
      "RADDT-GR\n",
      "TERM:  RADT-GR\n",
      "RADT-GR\n",
      "TERM:  RADD-G2\n",
      "RADD-G2\n",
      "TERM:  RADD-GR\n",
      "RADD-GR\n",
      "TERM:  TRA-SPT\n",
      "TRA-SPT\n",
      "TERM:  TYPE-FH\n",
      "TYPE-FH\n",
      "TERM:  gearbox\n",
      "gearbox\n",
      "TERM:  Gearbox\n",
      "Gearbox\n",
      "TERM:  SUSPL-EC\n",
      "SUSPL-EC\n",
      "TERM:  RAPDT-GR\n",
      "RAPDT-GR\n",
      "TERM:  DRIVING\n",
      "DRIVING\n",
      "TERM:  RSS-AIR\n",
      "RSS-AIR\n",
      "TERM:  TYPE-FM\n",
      "TYPE-FM\n",
      "TERM:  AT2412D OR AT2612D OR ATO2612D\n",
      "AT2412D OR AT2612D OR ATO2612D\n",
      "TERM:  AUD-HIGH\n",
      "AUD-HIGH\n",
      "TERM:  driver information display\n",
      "driver information display\n",
      "TERM:  Driver information display\n",
      "Driver information display\n",
      "TERM:  Driver Information Display\n",
      "Driver Information Display\n",
      "TERM:  axle\n",
      "axle\n",
      "TERM:  Axle\n",
      "Axle\n",
      "TERM:  remote control\n",
      "remote control\n",
      "TERM:  Remote Control\n",
      "Remote Control\n",
      "TERM:  Remote control\n",
      "Remote control\n",
      "TERM:  Variant symbols SubChapter\n",
      "Variant symbols SubChapter\n",
      "TERM:  ENVIRONMENT\n",
      "ENVIRONMENT\n",
      "TERM:  Dynafleet\n",
      "Dynafleet\n",
      "TERM:  DYNAFLEET\n",
      "DYNAFLEET\n",
      "TERM:  GSS-AGS\n",
      "GSS-AGS\n",
      "TERM:  SINF-PC\n",
      "SINF-PC\n",
      "TERM:  TRA-AMT\n",
      "TRA-AMT\n"
     ]
    }
   ],
   "source": [
    "for i in range(40):\n",
    "    print(\"TERM: \",term_list[i])\n",
    "    d = nlp(term_list[i])\n",
    "    #for t in d:\n",
    "    #    print(t.text)\n",
    "    print(d.text)\n",
    "    #regex = term_list[i]+'[^ \\n\\.]*[ \\n\\.]'\n",
    "    #search_line=contexts_list[i]\n",
    "    #print(re.search(regex,search_line).group(0))"
   ]
  },
  {
   "cell_type": "code",
   "execution_count": null,
   "metadata": {},
   "outputs": [],
   "source": []
  }
 ],
 "metadata": {
  "kernelspec": {
   "display_name": "Python 3",
   "language": "python",
   "name": "python3"
  },
  "language_info": {
   "codemirror_mode": {
    "name": "ipython",
    "version": 3
   },
   "file_extension": ".py",
   "mimetype": "text/x-python",
   "name": "python",
   "nbconvert_exporter": "python",
   "pygments_lexer": "ipython3",
   "version": "3.5.2"
  }
 },
 "nbformat": 4,
 "nbformat_minor": 2
}
