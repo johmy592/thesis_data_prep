{
 "cells": [
  {
   "cell_type": "code",
   "execution_count": 1,
   "metadata": {},
   "outputs": [],
   "source": [
    "from openpyxl import load_workbook\n",
    "import random"
   ]
  },
  {
   "cell_type": "code",
   "execution_count": 2,
   "metadata": {},
   "outputs": [],
   "source": [
    "terms_path = \"/home/johannes/hypernym_discovery_data/fodina/files_for_exjobb_2019-02-04/trucks_aggregated_2019-02-04_141737_999contexts.xlsx\"\n",
    "vocab_path = \"/home/johannes/hypernym_discovery_data/SemEval2018-Task9/vocabulary/1A.english.vocabulary.txt\"\n",
    "save_path = \"/home/johannes/thesis_code/data_experimentation/vocab_concat/vocabulary.txt\""
   ]
  },
  {
   "cell_type": "code",
   "execution_count": 3,
   "metadata": {},
   "outputs": [],
   "source": [
    "wb = load_workbook(terms_path)"
   ]
  },
  {
   "cell_type": "code",
   "execution_count": 4,
   "metadata": {},
   "outputs": [],
   "source": [
    "sheet = wb[wb.sheetnames[0]]"
   ]
  },
  {
   "cell_type": "code",
   "execution_count": 5,
   "metadata": {},
   "outputs": [],
   "source": [
    "startrow, startcol = sheet[\"A2\"].row, sheet[\"A2\"].column"
   ]
  },
  {
   "cell_type": "code",
   "execution_count": 6,
   "metadata": {},
   "outputs": [],
   "source": [
    "term_list = [sheet.cell(row=i, column=startcol).value for i in range(startrow,sheet.max_row)]\n"
   ]
  },
  {
   "cell_type": "code",
   "execution_count": 7,
   "metadata": {},
   "outputs": [
    {
     "name": "stdout",
     "output_type": "stream",
     "text": [
      "78224\n"
     ]
    }
   ],
   "source": [
    "print(len(term_list))"
   ]
  },
  {
   "cell_type": "code",
   "execution_count": 8,
   "metadata": {},
   "outputs": [],
   "source": [
    "def keep_lower_only(terms):\n",
    "    return list(set([t.lower() for t in terms]))\n",
    "    \n",
    "def keep_up_to_trigram(terms):\n",
    "    return [t for t in terms if len(t.split()) < 4]"
   ]
  },
  {
   "cell_type": "code",
   "execution_count": 9,
   "metadata": {},
   "outputs": [],
   "source": [
    "terms_lower = keep_lower_only(term_list)\n",
    "terms_lower.sort()"
   ]
  },
  {
   "cell_type": "code",
   "execution_count": 10,
   "metadata": {
    "scrolled": true
   },
   "outputs": [
    {
     "name": "stdout",
     "output_type": "stream",
     "text": [
      "74778\n"
     ]
    }
   ],
   "source": [
    "print(len(terms_lower))"
   ]
  },
  {
   "cell_type": "code",
   "execution_count": 11,
   "metadata": {},
   "outputs": [],
   "source": [
    "terms_lower = keep_up_to_trigram(terms_lower)"
   ]
  },
  {
   "cell_type": "code",
   "execution_count": 12,
   "metadata": {},
   "outputs": [
    {
     "name": "stdout",
     "output_type": "stream",
     "text": [
      "72184\n"
     ]
    }
   ],
   "source": [
    "print(len(terms_lower))"
   ]
  },
  {
   "cell_type": "code",
   "execution_count": 15,
   "metadata": {},
   "outputs": [],
   "source": [
    "def write_terms_only(terms_list, write_filename):\n",
    "    wf = open(write_filename,'w+')\n",
    "    for w in terms_list:\n",
    "        wf.write(w)\n",
    "        wf.write('\\n')\n",
    "    wf.close()\n"
   ]
  },
  {
   "cell_type": "code",
   "execution_count": 16,
   "metadata": {},
   "outputs": [],
   "source": [
    "terms_vocab = \"/home/johannes/thesis_code/data_experimentation/trucks/term_vocab.txt\"\n",
    "write_terms_only(terms_lower,terms_vocab)"
   ]
  },
  {
   "cell_type": "code",
   "execution_count": 13,
   "metadata": {},
   "outputs": [
    {
     "name": "stdout",
     "output_type": "stream",
     "text": [
      "218753\n"
     ]
    }
   ],
   "source": [
    "v_file = open(vocab_path,'r')\n",
    "vocab_list = [line.strip('\\n') for line in v_file]\n",
    "v_file.close()\n",
    "print(len(vocab_list))"
   ]
  },
  {
   "cell_type": "code",
   "execution_count": 14,
   "metadata": {},
   "outputs": [],
   "source": [
    "def concatenate_and_write(vocab, terms):\n",
    "    concatenated_vocabulary = list(set(vocab_list+terms_lower))\n",
    "    concatenated_vocabulary.sort()\n",
    "    print('Writing vocabulary of total ',len(concatenated_vocabulary),' terms')\n",
    "    wf = open(save_path,'w+')\n",
    "    for w in concatenated_vocabulary:\n",
    "        wf.write(w)\n",
    "        wf.write('\\n')\n",
    "    wf.close()"
   ]
  },
  {
   "cell_type": "code",
   "execution_count": 15,
   "metadata": {},
   "outputs": [
    {
     "name": "stdout",
     "output_type": "stream",
     "text": [
      "Writing vocabulary of total  281828  terms\n"
     ]
    }
   ],
   "source": [
    "concatenate_and_write(vocab_list,terms_lower)"
   ]
  },
  {
   "cell_type": "code",
   "execution_count": null,
   "metadata": {},
   "outputs": [],
   "source": []
  }
 ],
 "metadata": {
  "kernelspec": {
   "display_name": "Python 3",
   "language": "python",
   "name": "python3"
  },
  "language_info": {
   "codemirror_mode": {
    "name": "ipython",
    "version": 3
   },
   "file_extension": ".py",
   "mimetype": "text/x-python",
   "name": "python",
   "nbconvert_exporter": "python",
   "pygments_lexer": "ipython3",
   "version": "3.5.2"
  }
 },
 "nbformat": 4,
 "nbformat_minor": 2
}
